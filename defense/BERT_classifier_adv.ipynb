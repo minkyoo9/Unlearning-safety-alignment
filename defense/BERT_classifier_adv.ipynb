{
 "cells": [
  {
   "cell_type": "markdown",
   "id": "da8e70f7-15c2-4c70-a3d9-520b8bd9b4d5",
   "metadata": {},
   "source": [
    "### Data Load"
   ]
  },
  {
   "cell_type": "code",
   "execution_count": null,
   "id": "4657dc93-11b2-4391-bc88-3b132ac9c3cb",
   "metadata": {},
   "outputs": [],
   "source": [
    "import json\n",
    "# Rejection responses from LLaMA for positive examples\n",
    "with open('data/llama_predictions_LAT.json', 'r') as file:\n",
    "    preds_llama = json.load(file)\n",
    "safe_llama = []\n",
    "for d in preds_llama:\n",
    "    if d['safety'] == 'safe': safe_llama.append(d['response'])"
   ]
  },
  {
   "cell_type": "code",
   "execution_count": null,
   "id": "93365fc9-6666-4e13-9a08-97f4c8356cbe",
   "metadata": {},
   "outputs": [],
   "source": [
    "# Rejection responses merged with COVID fake news dataset for positive examples\n",
    "with open('data/merged_COVID_fake.json', 'r') as file:\n",
    "    safe_llama_merged=json.load(file)\n",
    "safe_llama_merged = [d['text'] for d in safe_llama_merged]"
   ]
  },
  {
   "cell_type": "code",
   "execution_count": null,
   "id": "5a9b4515-91e8-4486-9a16-0b1ec7b7ddae",
   "metadata": {},
   "outputs": [],
   "source": [
    "# Wikipedia summary dataset for negative examples\n",
    "with open('data/wiki_summary_sampled.json', 'r') as file:\n",
    "    wiki_summary_sampled = json.load(file)\n",
    "import random\n",
    "random.seed(123)\n",
    "wiki_summary_llama = random.sample(wiki_summary_sampled, len(safe_llama))"
   ]
  },
  {
   "cell_type": "code",
   "execution_count": null,
   "id": "f6994f9d-126a-49c2-ba5c-d1e81e198326",
   "metadata": {},
   "outputs": [],
   "source": [
    "# COVID fake news dataset (not merged) for negative examples\n",
    "with open('data/covid_fakes.json', 'r') as file:\n",
    "    fakes_515 = json.load(file)\n",
    "fakes_515 = fakes_515[:len(safe_llama_merged)]"
   ]
  },
  {
   "cell_type": "markdown",
   "id": "79895d8e-b3e9-4ff9-8cef-84cb08fcf0b5",
   "metadata": {},
   "source": [
    "### Classifier Train"
   ]
  },
  {
   "cell_type": "code",
   "execution_count": null,
   "id": "a1d441e4-e906-49f0-9a74-d46baf75cba7",
   "metadata": {},
   "outputs": [],
   "source": [
    "from transformers import AutoTokenizer, BertForSequenceClassification, Trainer, TrainingArguments\n",
    "from sklearn.model_selection import train_test_split\n",
    "from sklearn.metrics import accuracy_score, precision_recall_fscore_support\n",
    "import numpy as np\n",
    "import torch\n",
    "from torch.utils.data import Dataset\n",
    "import random\n",
    "\n",
    "class TextDataset(Dataset):\n",
    "    def __init__(self, texts, labels, tokenizer, max_len=512):\n",
    "        self.encodings = tokenizer(texts, truncation=True, padding=True, max_length=max_len)\n",
    "        self.labels = labels\n",
    "    \n",
    "    def __getitem__(self, idx):\n",
    "        item = {key: torch.tensor(val[idx]) for key, val in self.encodings.items()}\n",
    "        item['labels'] = torch.tensor(self.labels[idx])\n",
    "        return item\n",
    "    \n",
    "    def __len__(self):\n",
    "        return len(self.labels)"
   ]
  },
  {
   "cell_type": "code",
   "execution_count": null,
   "id": "b2af4931-5697-44a1-984b-18efd0e5adab",
   "metadata": {},
   "outputs": [],
   "source": [
    "def set_seed(seed_value=42):\n",
    "    random.seed(seed_value) \n",
    "    np.random.seed(seed_value)  \n",
    "    torch.manual_seed(seed_value)  \n",
    "    torch.cuda.manual_seed_all(seed_value)  \n",
    "\n",
    "set_seed(122)"
   ]
  },
  {
   "cell_type": "code",
   "execution_count": null,
   "id": "bd986cf3-f5f5-4e40-86fd-c333c594150b",
   "metadata": {},
   "outputs": [],
   "source": [
    "texts = safe_llama+safe_llama_merged+wiki_summary_llama+fakes_515\n",
    "labels = [1]*len(safe_llama+safe_llama_merged)+[0]*len(wiki_summary_llama+fakes_515)\n",
    "len(texts), len(labels)"
   ]
  },
  {
   "cell_type": "code",
   "execution_count": null,
   "id": "5ae0b9d6-429f-4d7e-97f3-1fefe08b07d1",
   "metadata": {},
   "outputs": [],
   "source": [
    "train_texts, test_texts, train_labels, test_labels = train_test_split(texts, labels, test_size=0.2, random_state=42)\n",
    "train_texts, val_texts, train_labels, val_labels = train_test_split(train_texts, train_labels, test_size=0.25, random_state=42)  \n",
    "\n",
    "tokenizer = AutoTokenizer.from_pretrained('bert-base-uncased')\n",
    "train_dataset = TextDataset(train_texts, train_labels, tokenizer)\n",
    "val_dataset = TextDataset(val_texts, val_labels, tokenizer)\n",
    "test_dataset = TextDataset(test_texts, test_labels, tokenizer)"
   ]
  },
  {
   "cell_type": "code",
   "execution_count": null,
   "id": "83cb87ec-28db-4bd9-a1cc-d2f796406c97",
   "metadata": {},
   "outputs": [],
   "source": [
    "model = BertForSequenceClassification.from_pretrained('bert-base-uncased', num_labels=2)\n",
    "\n",
    "training_args = TrainingArguments(\n",
    "    output_dir='./results_adv',\n",
    "    evaluation_strategy=\"steps\",\n",
    "    eval_steps=200,  \n",
    "    save_steps=200,\n",
    "    learning_rate=1e-5,\n",
    "    per_device_train_batch_size=16,\n",
    "    per_device_eval_batch_size=512,\n",
    "    num_train_epochs=5,\n",
    "    weight_decay=0.01,\n",
    "    save_strategy=\"steps\",\n",
    "    logging_dir='./logs',\n",
    "    logging_steps=10,\n",
    "    load_best_model_at_end=True, \n",
    "    metric_for_best_model=\"f1\",  \n",
    "    report_to=\"none\"\n",
    ")\n",
    "\n",
    "def compute_metrics(p):\n",
    "    predictions, labels = p\n",
    "    predictions = np.argmax(predictions, axis=1)\n",
    "    accuracy = accuracy_score(labels, predictions)\n",
    "    precision, recall, f1, _ = precision_recall_fscore_support(labels, predictions, average='binary')\n",
    "    return {\"accuracy\": accuracy, \"f1\": f1, \"precision\": precision, \"recall\": recall}\n",
    "\n",
    "trainer = Trainer(\n",
    "    model=model,\n",
    "    args=training_args,\n",
    "    train_dataset=train_dataset,\n",
    "    eval_dataset=val_dataset,\n",
    "    compute_metrics=compute_metrics\n",
    ")"
   ]
  },
  {
   "cell_type": "code",
   "execution_count": null,
   "id": "4a5405c9-eca6-48e8-b2c4-82ac9ee51da9",
   "metadata": {
    "scrolled": true
   },
   "outputs": [],
   "source": [
    "# Train Start\n",
    "trainer.train()\n",
    "\n",
    "# Eval with test dataset\n",
    "test_results = trainer.evaluate(test_dataset)\n",
    "print(\"Test Results:\", test_results)"
   ]
  },
  {
   "cell_type": "code",
   "execution_count": null,
   "id": "d388624a-31f0-48d7-a62d-29d63ed3f1d0",
   "metadata": {},
   "outputs": [],
   "source": [
    "# Save trained model\n",
    "torch.save(model, 'llama_classifier_adv')"
   ]
  },
  {
   "cell_type": "code",
   "execution_count": null,
   "id": "dd6e9664-03d9-4b57-828f-56f86822342b",
   "metadata": {},
   "outputs": [],
   "source": [
    "# Load saved model\n",
    "model = torch.load('llama_classifier_adv')\n",
    "\n",
    "# Trainer \n",
    "trainer = Trainer(\n",
    "    model=model,\n",
    "    args=training_args,\n",
    "    train_dataset=train_dataset,\n",
    "    eval_dataset=val_dataset,\n",
    "    compute_metrics=compute_metrics\n",
    ")"
   ]
  },
  {
   "cell_type": "markdown",
   "id": "4fc323ed-17a0-49c3-b213-7d86eb06668c",
   "metadata": {},
   "source": [
    "### Inspection"
   ]
  },
  {
   "cell_type": "code",
   "execution_count": null,
   "id": "7b931734-0e74-476e-8dc3-35205f42f1fc",
   "metadata": {},
   "outputs": [],
   "source": [
    "# Adjust the follwoing path with inspected data path \n",
    "inspected_data_path = \"[YOUR DATA PATH]\"\n",
    "\n",
    "with open(inspected_data_path, \"r\") as file:\n",
    "    rc_llama = json.load(file)\n",
    "rc_llama = [d['text'] for d in rc_llama]\n",
    "rc_dataset = TextDataset(rc_llama, [1]*len(rc_llama), tokenizer)\n",
    "\n",
    "test_results = trainer.evaluate(rc_dataset)\n",
    "print(f\"Test Results (Recall): {100*test_results['eval_recall']}\" )"
   ]
  }
 ],
 "metadata": {
  "kernelspec": {
   "display_name": "rwku",
   "language": "python",
   "name": "rwku"
  },
  "language_info": {
   "codemirror_mode": {
    "name": "ipython",
    "version": 3
   },
   "file_extension": ".py",
   "mimetype": "text/x-python",
   "name": "python",
   "nbconvert_exporter": "python",
   "pygments_lexer": "ipython3",
   "version": "3.10.15"
  }
 },
 "nbformat": 4,
 "nbformat_minor": 5
}
